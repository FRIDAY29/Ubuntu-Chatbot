{
  "nbformat": 4,
  "nbformat_minor": 0,
  "metadata": {
    "colab": {
      "provenance": [],
      "machine_shape": "hm",
      "gpuType": "A100"
    },
    "kernelspec": {
      "name": "python3",
      "display_name": "Python 3"
    },
    "language_info": {
      "name": "python"
    },
    "accelerator": "GPU"
  },
  "cells": [
    {
      "cell_type": "code",
      "source": [
        "!pip install faiss-cpu"
      ],
      "metadata": {
        "colab": {
          "base_uri": "https://localhost:8080/"
        },
        "id": "SCl3hebfuXko",
        "outputId": "579243cc-84f8-4305-ae98-c58e02bf138a"
      },
      "execution_count": 2,
      "outputs": [
        {
          "output_type": "stream",
          "name": "stdout",
          "text": [
            "Collecting faiss-cpu\n",
            "  Downloading faiss_cpu-1.8.0.post1-cp310-cp310-manylinux_2_17_x86_64.manylinux2014_x86_64.whl.metadata (3.7 kB)\n",
            "Requirement already satisfied: numpy<2.0,>=1.0 in /usr/local/lib/python3.10/dist-packages (from faiss-cpu) (1.26.4)\n",
            "Requirement already satisfied: packaging in /usr/local/lib/python3.10/dist-packages (from faiss-cpu) (24.1)\n",
            "Downloading faiss_cpu-1.8.0.post1-cp310-cp310-manylinux_2_17_x86_64.manylinux2014_x86_64.whl (27.0 MB)\n",
            "\u001b[2K   \u001b[90m━━━━━━━━━━━━━━━━━━━━━━━━━━━━━━━━━━━━━━━━\u001b[0m \u001b[32m27.0/27.0 MB\u001b[0m \u001b[31m79.0 MB/s\u001b[0m eta \u001b[36m0:00:00\u001b[0m\n",
            "\u001b[?25hInstalling collected packages: faiss-cpu\n",
            "Successfully installed faiss-cpu-1.8.0.post1\n"
          ]
        }
      ]
    },
    {
      "cell_type": "code",
      "execution_count": 3,
      "metadata": {
        "id": "P4fklPvor6OG"
      },
      "outputs": [],
      "source": [
        "import pandas as pd\n",
        "import torch\n",
        "from transformers import BertTokenizer, BertModel\n",
        "import faiss\n",
        "import numpy as np"
      ]
    },
    {
      "cell_type": "code",
      "source": [
        "# Load the saved embedding model and tokenizer\n",
        "bert_tokenizer = BertTokenizer.from_pretrained('bert_embedding_model')\n",
        "bert_model = BertModel.from_pretrained('bert_embedding_model')"
      ],
      "metadata": {
        "id": "IsdZG1YKuc-q"
      },
      "execution_count": 4,
      "outputs": []
    },
    {
      "cell_type": "code",
      "source": [
        "# Load the Ubuntu manual\n",
        "with open('ubuntu_manual.txt', 'r') as file:\n",
        "    ubuntu_manual = file.read()\n",
        "\n",
        "# Split the manual into smaller sections\n",
        "sections = ubuntu_manual.split('\\n\\n')"
      ],
      "metadata": {
        "id": "F86A9hVpuefc"
      },
      "execution_count": 6,
      "outputs": []
    },
    {
      "cell_type": "code",
      "source": [
        "# Function to embed text\n",
        "def embed_text(text):\n",
        "    inputs = bert_tokenizer(text, return_tensors='pt', truncation=True, padding=True, max_length=512)\n",
        "    with torch.no_grad():\n",
        "        outputs = bert_model(**inputs)\n",
        "    return outputs.last_hidden_state.mean(dim=1).squeeze().numpy()"
      ],
      "metadata": {
        "id": "8LPztY9ounQo"
      },
      "execution_count": 7,
      "outputs": []
    },
    {
      "cell_type": "code",
      "source": [
        "# Apply the embedding function to the manual sections\n",
        "embeddings = [embed_text(section) for section in sections]\n",
        "\n",
        "# Convert embeddings to a numpy array\n",
        "embedding_matrix = np.vstack(embeddings)\n"
      ],
      "metadata": {
        "id": "d5xUcEp4unHv"
      },
      "execution_count": 8,
      "outputs": []
    },
    {
      "cell_type": "code",
      "source": [
        "# Build the FAISS index\n",
        "index = faiss.IndexFlatL2(embedding_matrix.shape[1])\n",
        "index.add(embedding_matrix)"
      ],
      "metadata": {
        "id": "IzLYFZUNutnC"
      },
      "execution_count": 9,
      "outputs": []
    },
    {
      "cell_type": "code",
      "source": [
        "# Save the index and the corresponding sections\n",
        "faiss.write_index(index, \"faiss_manual_index.bin\")\n",
        "pd.DataFrame({'section': sections}).to_csv(\"manual_sections.csv\", index=False)"
      ],
      "metadata": {
        "id": "FbEOVVyYuwHH"
      },
      "execution_count": 10,
      "outputs": []
    }
  ]
}